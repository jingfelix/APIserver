{
 "cells": [
  {
   "cell_type": "code",
   "execution_count": 6,
   "metadata": {},
   "outputs": [
    {
     "name": "stdout",
     "output_type": "stream",
     "text": [
      "{\n",
      "  \"message\": \"Hello World!\"\n",
      "}\n",
      "\n"
     ]
    }
   ],
   "source": [
    "# 各个api测试\n",
    "\n",
    "from urllib import response\n",
    "import requests\n",
    "\n",
    "base_url = \"http://localhost:5000/\"\n",
    "\n",
    "response = requests.get(base_url)\n",
    "print(response.text)"
   ]
  },
  {
   "cell_type": "code",
   "execution_count": 13,
   "metadata": {},
   "outputs": [
    {
     "name": "stdout",
     "output_type": "stream",
     "text": [
      "{\n",
      "  \"msg\": \"Login success.\"\n",
      "}\n",
      "\n"
     ]
    }
   ],
   "source": [
    "# admin 登录\n",
    "\n",
    "url = base_url + \"u/login\"\n",
    "data = {\n",
    "    \"username\": \"admin\",\n",
    "    \"password\": \"admin\"\n",
    "}\n",
    "\n",
    "current_session = requests.Session()\n",
    "response = current_session.post(url, data=data)\n",
    "print(response.text)"
   ]
  },
  {
   "cell_type": "code",
   "execution_count": 14,
   "metadata": {},
   "outputs": [
    {
     "name": "stdout",
     "output_type": "stream",
     "text": [
      "{\n",
      "  \"msg\": \"Logout success.\"\n",
      "}\n",
      "\n"
     ]
    }
   ],
   "source": [
    "# logout\n",
    "\n",
    "url = base_url + \"u/logout\"\n",
    "response = current_session.post(url)\n",
    "print(response.text)"
   ]
  }
 ],
 "metadata": {
  "kernelspec": {
   "display_name": "Python 3.8.9 ('.venv': venv)",
   "language": "python",
   "name": "python3"
  },
  "language_info": {
   "codemirror_mode": {
    "name": "ipython",
    "version": 3
   },
   "file_extension": ".py",
   "mimetype": "text/x-python",
   "name": "python",
   "nbconvert_exporter": "python",
   "pygments_lexer": "ipython3",
   "version": "3.8.9"
  },
  "orig_nbformat": 4,
  "vscode": {
   "interpreter": {
    "hash": "64c5bba70a25ddc03c163b2bdbc4355573ba6c84d6f916ee567d50338f983c5d"
   }
  }
 },
 "nbformat": 4,
 "nbformat_minor": 2
}
